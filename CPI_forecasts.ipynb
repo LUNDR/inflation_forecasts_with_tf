{
 "cells": [
  {
   "cell_type": "code",
   "execution_count": 1,
   "metadata": {},
   "outputs": [],
   "source": [
    "import requests\n",
    "import os\n",
    "import pandas as pd\n",
    "import matplotlib.pyplot as plt\n",
    "import json\n",
    "import tensorflow as tf\n",
    "import numpy as np"
   ]
  },
  {
   "cell_type": "code",
   "execution_count": 2,
   "metadata": {},
   "outputs": [],
   "source": [
    "# def list_dataset_codes():\n",
    "api_endpoint = \"https://api.ons.gov.uk/\"\n",
    "api_params = 'code-lists'\n",
    "url = (api_endpoint\n",
    "                    + api_params)\n",
    "                        \n",
    "#     return requests.get(url).json()\n",
    "    "
   ]
  },
  {
   "cell_type": "code",
   "execution_count": 3,
   "metadata": {},
   "outputs": [
    {
     "data": {
      "text/plain": [
       "'No API is defined for GET /code-lists'"
      ]
     },
     "execution_count": 3,
     "metadata": {},
     "output_type": "execute_result"
    }
   ],
   "source": [
    "requests.get(url).json()"
   ]
  },
  {
   "cell_type": "code",
   "execution_count": 5,
   "metadata": {},
   "outputs": [],
   "source": [
    "def grab_ONS_time_series_data(dataset_id,timeseries_id):\n",
    "    \"\"\" This function grabs specified time series from the ONS API. \"\"\"\n",
    "    api_endpoint = \"https://api.ons.gov.uk/\"\n",
    "    api_params = {\n",
    "    'dataset':dataset_id,\n",
    "    'timeseries':timeseries_id}\n",
    "    url = (api_endpoint\n",
    "                        +'/'.join([x+'/'+y for x,y in zip(api_params.keys(),api_params.values())][::-1])\n",
    "                        +'/data')\n",
    "    print(url)\n",
    "    return requests.get(url).json()"
   ]
  },
  {
   "cell_type": "code",
   "execution_count": 6,
   "metadata": {},
   "outputs": [
    {
     "name": "stdout",
     "output_type": "stream",
     "text": [
      "https://api.ons.gov.uk/timeseries/D7BU/dataset/MM23/data\n",
      "Code output:\n",
      "\n",
      "CPI INDEX 01 : FOOD AND NON-ALCOHOLIC BEVERAGES 2015=100\n",
      "               label     month quarter sourceDataset  \\\n",
      "date                                                   \n",
      "1988-01-01  1988 JAN   January                  MM23   \n",
      "1988-02-01  1988 FEB  February                  MM23   \n",
      "1988-03-01  1988 MAR     March                  MM23   \n",
      "1988-04-01  1988 APR     April                  MM23   \n",
      "1988-05-01  1988 MAY       May                  MM23   \n",
      "\n",
      "                          updateDate  value  year  \n",
      "date                                               \n",
      "1988-01-01  2016-01-19T09:30:00.000Z   48.0  1988  \n",
      "1988-02-01  2016-01-19T09:30:00.000Z   48.3  1988  \n",
      "1988-03-01  2016-01-19T09:30:00.000Z   48.4  1988  \n",
      "1988-04-01  2016-01-19T09:30:00.000Z   48.7  1988  \n",
      "1988-05-01  2016-01-19T09:30:00.000Z   48.8  1988  \n"
     ]
    },
    {
     "data": {
      "image/png": "[encoded data removed]",
      "text/plain": [
       "<Figure size 432x288 with 1 Axes>"
      ]
     },
     "metadata": {
      "needs_background": "light"
     },
     "output_type": "display_data"
    }
   ],
   "source": [
    "# Grab the data (put your time series codes here) \n",
    "\n",
    "data = grab_ONS_time_series_data('MM23','D7BU')\n",
    "\n",
    "# Check we have the right time series \n",
    "title_text = data['description']['title']\n",
    "print(\"Code output:\\n\")\n",
    "print(title_text)\n",
    "# Put the data into a dataframe and convert types # Note that you'll need to change months if you're \n",
    "# using data at a different frequency \n",
    "df = pd.DataFrame(pd.json_normalize(data['months']))\n",
    "# Put the data in a standard datetime format\n",
    "df['date'] = pd.to_datetime(df['date'])\n",
    "df['value'] = df['value'].astype(float)\n",
    "df = df.set_index('date')\n",
    "# Check the data look sensible \n",
    "print(df.head())\n",
    "# Plot the data \n",
    "df['value'].plot(title=title_text,ylim=(0,df['value'].max()*1.2),lw=5.)\n",
    "plt.show()"
   ]
  },
  {
   "cell_type": "code",
   "execution_count": 7,
   "metadata": {},
   "outputs": [
    {
     "data": {
      "text/html": [
       "<div>\n",
       "<style scoped>\n",
       "    .dataframe tbody tr th:only-of-type {\n",
       "        vertical-align: middle;\n",
       "    }\n",
       "\n",
       "    .dataframe tbody tr th {\n",
       "        vertical-align: top;\n",
       "    }\n",
       "\n",
       "    .dataframe thead th {\n",
       "        text-align: right;\n",
       "    }\n",
       "</style>\n",
       "<table border=\"1\" class=\"dataframe\">\n",
       "  <thead>\n",
       "    <tr style=\"text-align: right;\">\n",
       "      <th></th>\n",
       "      <th>label</th>\n",
       "      <th>month</th>\n",
       "      <th>quarter</th>\n",
       "      <th>sourceDataset</th>\n",
       "      <th>updateDate</th>\n",
       "      <th>value</th>\n",
       "      <th>year</th>\n",
       "    </tr>\n",
       "    <tr>\n",
       "      <th>date</th>\n",
       "      <th></th>\n",
       "      <th></th>\n",
       "      <th></th>\n",
       "      <th></th>\n",
       "      <th></th>\n",
       "      <th></th>\n",
       "      <th></th>\n",
       "    </tr>\n",
       "  </thead>\n",
       "  <tbody>\n",
       "    <tr>\n",
       "      <th>1988-01-01</th>\n",
       "      <td>1988 JAN</td>\n",
       "      <td>January</td>\n",
       "      <td></td>\n",
       "      <td>MM23</td>\n",
       "      <td>2016-01-19T09:30:00.000Z</td>\n",
       "      <td>48.0</td>\n",
       "      <td>1988</td>\n",
       "    </tr>\n",
       "    <tr>\n",
       "      <th>1988-02-01</th>\n",
       "      <td>1988 FEB</td>\n",
       "      <td>February</td>\n",
       "      <td></td>\n",
       "      <td>MM23</td>\n",
       "      <td>2016-01-19T09:30:00.000Z</td>\n",
       "      <td>48.3</td>\n",
       "      <td>1988</td>\n",
       "    </tr>\n",
       "    <tr>\n",
       "      <th>1988-03-01</th>\n",
       "      <td>1988 MAR</td>\n",
       "      <td>March</td>\n",
       "      <td></td>\n",
       "      <td>MM23</td>\n",
       "      <td>2016-01-19T09:30:00.000Z</td>\n",
       "      <td>48.4</td>\n",
       "      <td>1988</td>\n",
       "    </tr>\n",
       "    <tr>\n",
       "      <th>1988-04-01</th>\n",
       "      <td>1988 APR</td>\n",
       "      <td>April</td>\n",
       "      <td></td>\n",
       "      <td>MM23</td>\n",
       "      <td>2016-01-19T09:30:00.000Z</td>\n",
       "      <td>48.7</td>\n",
       "      <td>1988</td>\n",
       "    </tr>\n",
       "    <tr>\n",
       "      <th>1988-05-01</th>\n",
       "      <td>1988 MAY</td>\n",
       "      <td>May</td>\n",
       "      <td></td>\n",
       "      <td>MM23</td>\n",
       "      <td>2016-01-19T09:30:00.000Z</td>\n",
       "      <td>48.8</td>\n",
       "      <td>1988</td>\n",
       "    </tr>\n",
       "  </tbody>\n",
       "</table>\n",
       "</div>"
      ],
      "text/plain": [
       "               label     month quarter sourceDataset  \\\n",
       "date                                                   \n",
       "1988-01-01  1988 JAN   January                  MM23   \n",
       "1988-02-01  1988 FEB  February                  MM23   \n",
       "1988-03-01  1988 MAR     March                  MM23   \n",
       "1988-04-01  1988 APR     April                  MM23   \n",
       "1988-05-01  1988 MAY       May                  MM23   \n",
       "\n",
       "                          updateDate  value  year  \n",
       "date                                               \n",
       "1988-01-01  2016-01-19T09:30:00.000Z   48.0  1988  \n",
       "1988-02-01  2016-01-19T09:30:00.000Z   48.3  1988  \n",
       "1988-03-01  2016-01-19T09:30:00.000Z   48.4  1988  \n",
       "1988-04-01  2016-01-19T09:30:00.000Z   48.7  1988  \n",
       "1988-05-01  2016-01-19T09:30:00.000Z   48.8  1988  "
      ]
     },
     "execution_count": 7,
     "metadata": {},
     "output_type": "execute_result"
    }
   ],
   "source": [
    "#--- convert to a Tensorflow timeseries dataset\n",
    "\n",
    "df.head()"
   ]
  },
  {
   "cell_type": "code",
   "execution_count": 8,
   "metadata": {},
   "outputs": [],
   "source": [
    " x1 = tf.cast(df['value'],tf.float32)"
   ]
  },
  {
   "cell_type": "code",
   "execution_count": 9,
   "metadata": {},
   "outputs": [
    {
     "data": {
      "text/plain": [
       "7"
      ]
     },
     "execution_count": 9,
     "metadata": {},
     "output_type": "execute_result"
    }
   ],
   "source": [
    "#--- split into train and test\n",
    "df = df.reset_index(drop = True)\n",
    "\n",
    "column_indices = {name: i for i, name in enumerate(df.columns)}\n",
    "n = len(df)\n",
    "\n",
    "train_df = df[0:int(n*0.7)][['value']]\n",
    "val_df = df[int(n*0.7):int(n*0.9)][['value']]\n",
    "test_df = df[int(n*0.9):]\n",
    "\n",
    "num_features = df.shape[1]\n",
    "num_features"
   ]
  },
  {
   "cell_type": "code",
   "execution_count": 10,
   "metadata": {},
   "outputs": [
    {
     "data": {
      "text/html": [
       "<div>\n",
       "<style scoped>\n",
       "    .dataframe tbody tr th:only-of-type {\n",
       "        vertical-align: middle;\n",
       "    }\n",
       "\n",
       "    .dataframe tbody tr th {\n",
       "        vertical-align: top;\n",
       "    }\n",
       "\n",
       "    .dataframe thead th {\n",
       "        text-align: right;\n",
       "    }\n",
       "</style>\n",
       "<table border=\"1\" class=\"dataframe\">\n",
       "  <thead>\n",
       "    <tr style=\"text-align: right;\">\n",
       "      <th></th>\n",
       "      <th>label</th>\n",
       "      <th>month</th>\n",
       "      <th>quarter</th>\n",
       "      <th>sourceDataset</th>\n",
       "      <th>updateDate</th>\n",
       "      <th>value</th>\n",
       "      <th>year</th>\n",
       "    </tr>\n",
       "  </thead>\n",
       "  <tbody>\n",
       "    <tr>\n",
       "      <th>0</th>\n",
       "      <td>1988 JAN</td>\n",
       "      <td>January</td>\n",
       "      <td></td>\n",
       "      <td>MM23</td>\n",
       "      <td>2016-01-19T09:30:00.000Z</td>\n",
       "      <td>48.0</td>\n",
       "      <td>1988</td>\n",
       "    </tr>\n",
       "    <tr>\n",
       "      <th>1</th>\n",
       "      <td>1988 FEB</td>\n",
       "      <td>February</td>\n",
       "      <td></td>\n",
       "      <td>MM23</td>\n",
       "      <td>2016-01-19T09:30:00.000Z</td>\n",
       "      <td>48.3</td>\n",
       "      <td>1988</td>\n",
       "    </tr>\n",
       "    <tr>\n",
       "      <th>2</th>\n",
       "      <td>1988 MAR</td>\n",
       "      <td>March</td>\n",
       "      <td></td>\n",
       "      <td>MM23</td>\n",
       "      <td>2016-01-19T09:30:00.000Z</td>\n",
       "      <td>48.4</td>\n",
       "      <td>1988</td>\n",
       "    </tr>\n",
       "    <tr>\n",
       "      <th>3</th>\n",
       "      <td>1988 APR</td>\n",
       "      <td>April</td>\n",
       "      <td></td>\n",
       "      <td>MM23</td>\n",
       "      <td>2016-01-19T09:30:00.000Z</td>\n",
       "      <td>48.7</td>\n",
       "      <td>1988</td>\n",
       "    </tr>\n",
       "    <tr>\n",
       "      <th>4</th>\n",
       "      <td>1988 MAY</td>\n",
       "      <td>May</td>\n",
       "      <td></td>\n",
       "      <td>MM23</td>\n",
       "      <td>2016-01-19T09:30:00.000Z</td>\n",
       "      <td>48.8</td>\n",
       "      <td>1988</td>\n",
       "    </tr>\n",
       "    <tr>\n",
       "      <th>...</th>\n",
       "      <td>...</td>\n",
       "      <td>...</td>\n",
       "      <td>...</td>\n",
       "      <td>...</td>\n",
       "      <td>...</td>\n",
       "      <td>...</td>\n",
       "      <td>...</td>\n",
       "    </tr>\n",
       "    <tr>\n",
       "      <th>402</th>\n",
       "      <td>2021 JUL</td>\n",
       "      <td>July</td>\n",
       "      <td></td>\n",
       "      <td>MM23</td>\n",
       "      <td>2021-08-17T23:00:00.000Z</td>\n",
       "      <td>103.3</td>\n",
       "      <td>2021</td>\n",
       "    </tr>\n",
       "    <tr>\n",
       "      <th>403</th>\n",
       "      <td>2021 AUG</td>\n",
       "      <td>August</td>\n",
       "      <td></td>\n",
       "      <td>MM23</td>\n",
       "      <td>2021-08-17T23:00:00.000Z</td>\n",
       "      <td>104.4</td>\n",
       "      <td>2021</td>\n",
       "    </tr>\n",
       "    <tr>\n",
       "      <th>404</th>\n",
       "      <td>2021 SEP</td>\n",
       "      <td>September</td>\n",
       "      <td></td>\n",
       "      <td>MM23</td>\n",
       "      <td>2021-10-19T23:00:00.000Z</td>\n",
       "      <td>104.2</td>\n",
       "      <td>2021</td>\n",
       "    </tr>\n",
       "    <tr>\n",
       "      <th>405</th>\n",
       "      <td>2021 OCT</td>\n",
       "      <td>October</td>\n",
       "      <td></td>\n",
       "      <td>MM23</td>\n",
       "      <td>2021-11-17T00:00:00.000Z</td>\n",
       "      <td>104.7</td>\n",
       "      <td>2021</td>\n",
       "    </tr>\n",
       "    <tr>\n",
       "      <th>406</th>\n",
       "      <td>2021 NOV</td>\n",
       "      <td>November</td>\n",
       "      <td></td>\n",
       "      <td>MM23</td>\n",
       "      <td>2021-12-15T00:00:00.000Z</td>\n",
       "      <td>105.7</td>\n",
       "      <td>2021</td>\n",
       "    </tr>\n",
       "  </tbody>\n",
       "</table>\n",
       "<p>407 rows × 7 columns</p>\n",
       "</div>"
      ],
      "text/plain": [
       "        label      month quarter sourceDataset                updateDate  \\\n",
       "0    1988 JAN    January                  MM23  2016-01-19T09:30:00.000Z   \n",
       "1    1988 FEB   February                  MM23  2016-01-19T09:30:00.000Z   \n",
       "2    1988 MAR      March                  MM23  2016-01-19T09:30:00.000Z   \n",
       "3    1988 APR      April                  MM23  2016-01-19T09:30:00.000Z   \n",
       "4    1988 MAY        May                  MM23  2016-01-19T09:30:00.000Z   \n",
       "..        ...        ...     ...           ...                       ...   \n",
       "402  2021 JUL       July                  MM23  2021-08-17T23:00:00.000Z   \n",
       "403  2021 AUG     August                  MM23  2021-08-17T23:00:00.000Z   \n",
       "404  2021 SEP  September                  MM23  2021-10-19T23:00:00.000Z   \n",
       "405  2021 OCT    October                  MM23  2021-11-17T00:00:00.000Z   \n",
       "406  2021 NOV   November                  MM23  2021-12-15T00:00:00.000Z   \n",
       "\n",
       "     value  year  \n",
       "0     48.0  1988  \n",
       "1     48.3  1988  \n",
       "2     48.4  1988  \n",
       "3     48.7  1988  \n",
       "4     48.8  1988  \n",
       "..     ...   ...  \n",
       "402  103.3  2021  \n",
       "403  104.4  2021  \n",
       "404  104.2  2021  \n",
       "405  104.7  2021  \n",
       "406  105.7  2021  \n",
       "\n",
       "[407 rows x 7 columns]"
      ]
     },
     "execution_count": 10,
     "metadata": {},
     "output_type": "execute_result"
    }
   ],
   "source": [
    "df"
   ]
  },
  {
   "cell_type": "code",
   "execution_count": 11,
   "metadata": {},
   "outputs": [
    {
     "name": "stderr",
     "output_type": "stream",
     "text": [
      "/usr/local/Caskroom/miniconda/base/envs/env01/lib/python3.8/site-packages/pandas/core/generic.py:5494: SettingWithCopyWarning: \n",
      "A value is trying to be set on a copy of a slice from a DataFrame.\n",
      "Try using .loc[row_indexer,col_indexer] = value instead\n",
      "\n",
      "See the caveats in the documentation: https://pandas.pydata.org/pandas-docs/stable/user_guide/indexing.html#returning-a-view-versus-a-copy\n",
      "  self[name] = value\n"
     ]
    }
   ],
   "source": [
    "train_mean = train_df['value'].mean()\n",
    "train_std = train_df['value'].std()\n",
    "\n",
    "train_df.value = (train_df.value-train_mean)/train_std\n",
    "val_df.value = (val_df.value-train_mean)/train_std\n",
    "test_df.value = (test_df.value-train_mean)/train_std"
   ]
  },
  {
   "cell_type": "code",
   "execution_count": 12,
   "metadata": {},
   "outputs": [],
   "source": [
    "class WindowGenerator():\n",
    "    def __init__(self, \n",
    "                 input_width,\n",
    "                 label_width,\n",
    "                 shift,\n",
    "                 train_df,\n",
    "                 val_df,\n",
    "                 test_df, \n",
    "                 label_columns = None):\n",
    "        \n",
    "        #--store the raw data\n",
    "        self.train_df = train_df\n",
    "        self.val_df = val_df\n",
    "        self.test_df = test_df\n",
    "        \n",
    "        #--workout label column indices\n",
    "        self.label_columns = label_columns\n",
    "        if label_columns is not None:\n",
    "            self.label_columns_indices = {name: i for i, name in enumerate(label_columns)}\n",
    "        self.column_indices = {name: i for i, name in enumerate(train_df.columns)}\n",
    "        \n",
    "        #Work out the window parameters\n",
    "        \n",
    "        self.input_width = input_width\n",
    "        self.label_width = label_width\n",
    "        self.shift = shift\n",
    "        \n",
    "        self.total_window_size = input_width + shift\n",
    "        \n",
    "        self.input_slice = slice(0, input_width)\n",
    "        self.input_indices = np.arange(self.total_window_size)[self.input_slice]\n",
    "        \n",
    "        self.label_start = self.total_window_size - self.label_width\n",
    "        self.label_slice = slice(self.label_start, None)\n",
    "        self.label_indices = np.arange(self.total_window_size)[self.label_slice]\n",
    "                                 \n",
    "                                 \n",
    "    def split_window(self, features):\n",
    "        inputs = features[:,self.input_slice,:]\n",
    "        labels = features[:,self.label_slice,:]\n",
    "        if self.label_columns is not None:\n",
    "            labels = tf.stack(\n",
    "            [labels[:, :, self.column_indices[name]] for name in self.label_columns], axis = -1)\n",
    "        inputs.set_shape([None, self.input_width, None])\n",
    "        labels.set_shape([None, self.label_width, None])\n",
    "        return inputs, labels\n",
    "\n",
    "    def make_dataset(self, data):\n",
    "        data = np.array(data, dtype = np.float32)\n",
    "        ds = tf.keras.preprocessing.timeseries_dataset_from_array(\n",
    "        data = data,\n",
    "        targets = None,\n",
    "        sequence_length = self.total_window_size,\n",
    "        sequence_stride = 1,\n",
    "        shuffle = False,\n",
    "        batch_size = 32,\n",
    "        )\n",
    "\n",
    "        ds = ds.map(self.split_window)\n",
    "        return ds\n",
    "\n",
    "    @property\n",
    "    def train(self):\n",
    "        return self.make_dataset(self.train_df)\n",
    "\n",
    "    @property\n",
    "    def val(self):\n",
    "        return self.make_dataset(self.val_df)\n",
    "\n",
    "    @property\n",
    "    def test(self):\n",
    "        return self.make_dataset(self.test_df)   "
   ]
  },
  {
   "cell_type": "code",
   "execution_count": 13,
   "metadata": {},
   "outputs": [],
   "source": [
    "single_step_window = WindowGenerator(\n",
    "input_width = 1,\n",
    "label_width = 1,\n",
    "shift = 1,\n",
    "train_df = train_df,\n",
    "val_df = val_df,\n",
    "test_df = test_df,\n",
    "label_columns = ['value']\n",
    ")"
   ]
  },
  {
   "cell_type": "code",
   "execution_count": 14,
   "metadata": {},
   "outputs": [],
   "source": [
    "class Baseline(tf.keras.Model):\n",
    "    def __init__(self, label_index = None):\n",
    "        super().__init__()\n",
    "        self.label_index = label_index\n",
    "    def call(self, inputs):\n",
    "        if self.label_index is None:\n",
    "            return inputs\n",
    "        result = inputs[:,:,self.label_index]\n",
    "        return result[:,:, tf.newaxis]"
   ]
  },
  {
   "cell_type": "code",
   "execution_count": 15,
   "metadata": {},
   "outputs": [],
   "source": [
    "baseline = Baseline(label_index = column_indices['value'])\n",
    "baseline.compile(loss = tf.losses.MeanSquaredError(),\n",
    "                metrics = [tf.metrics.MeanAbsoluteError()])\n"
   ]
  },
  {
   "cell_type": "code",
   "execution_count": 16,
   "metadata": {},
   "outputs": [
    {
     "ename": "ValueError",
     "evalue": "in user code:\n\n    File \"/usr/local/Caskroom/miniconda/base/envs/env01/lib/python3.8/site-packages/keras/engine/training.py\", line 1366, in test_function  *\n        return step_function(self, iterator)\n    File \"/usr/local/Caskroom/miniconda/base/envs/env01/lib/python3.8/site-packages/keras/engine/training.py\", line 1356, in step_function  **\n        outputs = model.distribute_strategy.run(run_step, args=(data,))\n    File \"/usr/local/Caskroom/miniconda/base/envs/env01/lib/python3.8/site-packages/keras/engine/training.py\", line 1349, in run_step  **\n        outputs = model.test_step(data)\n    File \"/usr/local/Caskroom/miniconda/base/envs/env01/lib/python3.8/site-packages/keras/engine/training.py\", line 1303, in test_step\n        y_pred = self(x, training=False)\n    File \"/usr/local/Caskroom/miniconda/base/envs/env01/lib/python3.8/site-packages/keras/utils/traceback_utils.py\", line 67, in error_handler\n        raise e.with_traceback(filtered_tb) from None\n\n    ValueError: Exception encountered when calling layer \"baseline\" (type Baseline).\n    \n    in user code:\n    \n        File \"<ipython-input-14-60eb73458a99>\", line 8, in call  *\n            result = inputs[:,:,self.label_index]\n    \n        ValueError: slice index 5 of dimension 2 out of bounds. for '{{node baseline/strided_slice}} = StridedSlice[Index=DT_INT32, T=DT_FLOAT, begin_mask=3, ellipsis_mask=0, end_mask=3, new_axis_mask=0, shrink_axis_mask=4](IteratorGetNext, baseline/strided_slice/stack, baseline/strided_slice/stack_1, baseline/strided_slice/stack_2)' with input shapes: [?,1,1], [3], [3], [3] and with computed input tensors: input[1] = <0 0 5>, input[2] = <0 0 6>, input[3] = <1 1 1>.\n    \n    \n    Call arguments received:\n      • inputs=tf.Tensor(shape=(None, 1, 1), dtype=float32)\n",
     "output_type": "error",
     "traceback": [
      "\u001b[0;31m---------------------------------------------------------------------------\u001b[0m",
      "\u001b[0;31mValueError\u001b[0m                                Traceback (most recent call last)",
      "\u001b[0;32m<ipython-input-16-4db71d80d8bb>\u001b[0m in \u001b[0;36m<module>\u001b[0;34m\u001b[0m\n\u001b[1;32m      1\u001b[0m \u001b[0mval_performance\u001b[0m \u001b[0;34m=\u001b[0m \u001b[0;34m{\u001b[0m\u001b[0;34m}\u001b[0m\u001b[0;34m\u001b[0m\u001b[0;34m\u001b[0m\u001b[0m\n\u001b[0;32m----> 2\u001b[0;31m \u001b[0mval_performance\u001b[0m\u001b[0;34m[\u001b[0m\u001b[0;34m'Baseline'\u001b[0m\u001b[0;34m]\u001b[0m \u001b[0;34m=\u001b[0m \u001b[0mbaseline\u001b[0m\u001b[0;34m.\u001b[0m\u001b[0mevaluate\u001b[0m\u001b[0;34m(\u001b[0m\u001b[0msingle_step_window\u001b[0m\u001b[0;34m.\u001b[0m\u001b[0mval\u001b[0m\u001b[0;34m)\u001b[0m\u001b[0;34m\u001b[0m\u001b[0;34m\u001b[0m\u001b[0m\n\u001b[0m\u001b[1;32m      3\u001b[0m \u001b[0;34m\u001b[0m\u001b[0m\n\u001b[1;32m      4\u001b[0m \u001b[0mval_performance\u001b[0m\u001b[0;34m\u001b[0m\u001b[0;34m\u001b[0m\u001b[0m\n",
      "\u001b[0;32m/usr/local/Caskroom/miniconda/base/envs/env01/lib/python3.8/site-packages/keras/utils/traceback_utils.py\u001b[0m in \u001b[0;36merror_handler\u001b[0;34m(*args, **kwargs)\u001b[0m\n\u001b[1;32m     65\u001b[0m     \u001b[0;32mexcept\u001b[0m \u001b[0mException\u001b[0m \u001b[0;32mas\u001b[0m \u001b[0me\u001b[0m\u001b[0;34m:\u001b[0m  \u001b[0;31m# pylint: disable=broad-except\u001b[0m\u001b[0;34m\u001b[0m\u001b[0;34m\u001b[0m\u001b[0m\n\u001b[1;32m     66\u001b[0m       \u001b[0mfiltered_tb\u001b[0m \u001b[0;34m=\u001b[0m \u001b[0m_process_traceback_frames\u001b[0m\u001b[0;34m(\u001b[0m\u001b[0me\u001b[0m\u001b[0;34m.\u001b[0m\u001b[0m__traceback__\u001b[0m\u001b[0;34m)\u001b[0m\u001b[0;34m\u001b[0m\u001b[0;34m\u001b[0m\u001b[0m\n\u001b[0;32m---> 67\u001b[0;31m       \u001b[0;32mraise\u001b[0m \u001b[0me\u001b[0m\u001b[0;34m.\u001b[0m\u001b[0mwith_traceback\u001b[0m\u001b[0;34m(\u001b[0m\u001b[0mfiltered_tb\u001b[0m\u001b[0;34m)\u001b[0m \u001b[0;32mfrom\u001b[0m \u001b[0;32mNone\u001b[0m\u001b[0;34m\u001b[0m\u001b[0;34m\u001b[0m\u001b[0m\n\u001b[0m\u001b[1;32m     68\u001b[0m     \u001b[0;32mfinally\u001b[0m\u001b[0;34m:\u001b[0m\u001b[0;34m\u001b[0m\u001b[0;34m\u001b[0m\u001b[0m\n\u001b[1;32m     69\u001b[0m       \u001b[0;32mdel\u001b[0m \u001b[0mfiltered_tb\u001b[0m\u001b[0;34m\u001b[0m\u001b[0;34m\u001b[0m\u001b[0m\n",
      "\u001b[0;32m/usr/local/Caskroom/miniconda/base/envs/env01/lib/python3.8/site-packages/tensorflow/python/framework/func_graph.py\u001b[0m in \u001b[0;36mautograph_handler\u001b[0;34m(*args, **kwargs)\u001b[0m\n\u001b[1;32m   1127\u001b[0m           \u001b[0;32mexcept\u001b[0m \u001b[0mException\u001b[0m \u001b[0;32mas\u001b[0m \u001b[0me\u001b[0m\u001b[0;34m:\u001b[0m  \u001b[0;31m# pylint:disable=broad-except\u001b[0m\u001b[0;34m\u001b[0m\u001b[0;34m\u001b[0m\u001b[0m\n\u001b[1;32m   1128\u001b[0m             \u001b[0;32mif\u001b[0m \u001b[0mhasattr\u001b[0m\u001b[0;34m(\u001b[0m\u001b[0me\u001b[0m\u001b[0;34m,\u001b[0m \u001b[0;34m\"ag_error_metadata\"\u001b[0m\u001b[0;34m)\u001b[0m\u001b[0;34m:\u001b[0m\u001b[0;34m\u001b[0m\u001b[0;34m\u001b[0m\u001b[0m\n\u001b[0;32m-> 1129\u001b[0;31m               \u001b[0;32mraise\u001b[0m \u001b[0me\u001b[0m\u001b[0;34m.\u001b[0m\u001b[0mag_error_metadata\u001b[0m\u001b[0;34m.\u001b[0m\u001b[0mto_exception\u001b[0m\u001b[0;34m(\u001b[0m\u001b[0me\u001b[0m\u001b[0;34m)\u001b[0m\u001b[0;34m\u001b[0m\u001b[0;34m\u001b[0m\u001b[0m\n\u001b[0m\u001b[1;32m   1130\u001b[0m             \u001b[0;32melse\u001b[0m\u001b[0;34m:\u001b[0m\u001b[0;34m\u001b[0m\u001b[0;34m\u001b[0m\u001b[0m\n\u001b[1;32m   1131\u001b[0m               \u001b[0;32mraise\u001b[0m\u001b[0;34m\u001b[0m\u001b[0;34m\u001b[0m\u001b[0m\n",
      "\u001b[0;31mValueError\u001b[0m: in user code:\n\n    File \"/usr/local/Caskroom/miniconda/base/envs/env01/lib/python3.8/site-packages/keras/engine/training.py\", line 1366, in test_function  *\n        return step_function(self, iterator)\n    File \"/usr/local/Caskroom/miniconda/base/envs/env01/lib/python3.8/site-packages/keras/engine/training.py\", line 1356, in step_function  **\n        outputs = model.distribute_strategy.run(run_step, args=(data,))\n    File \"/usr/local/Caskroom/miniconda/base/envs/env01/lib/python3.8/site-packages/keras/engine/training.py\", line 1349, in run_step  **\n        outputs = model.test_step(data)\n    File \"/usr/local/Caskroom/miniconda/base/envs/env01/lib/python3.8/site-packages/keras/engine/training.py\", line 1303, in test_step\n        y_pred = self(x, training=False)\n    File \"/usr/local/Caskroom/miniconda/base/envs/env01/lib/python3.8/site-packages/keras/utils/traceback_utils.py\", line 67, in error_handler\n        raise e.with_traceback(filtered_tb) from None\n\n    ValueError: Exception encountered when calling layer \"baseline\" (type Baseline).\n    \n    in user code:\n    \n        File \"<ipython-input-14-60eb73458a99>\", line 8, in call  *\n            result = inputs[:,:,self.label_index]\n    \n        ValueError: slice index 5 of dimension 2 out of bounds. for '{{node baseline/strided_slice}} = StridedSlice[Index=DT_INT32, T=DT_FLOAT, begin_mask=3, ellipsis_mask=0, end_mask=3, new_axis_mask=0, shrink_axis_mask=4](IteratorGetNext, baseline/strided_slice/stack, baseline/strided_slice/stack_1, baseline/strided_slice/stack_2)' with input shapes: [?,1,1], [3], [3], [3] and with computed input tensors: input[1] = <0 0 5>, input[2] = <0 0 6>, input[3] = <1 1 1>.\n    \n    \n    Call arguments received:\n      • inputs=tf.Tensor(shape=(None, 1, 1), dtype=float32)\n"
     ]
    }
   ],
   "source": [
    "val_performance = {}\n",
    "val_performance['Baseline'] = baseline.evaluate(single_step_window.val)\n",
    "\n",
    "val_performance"
   ]
  },
  {
   "cell_type": "code",
   "execution_count": 17,
   "metadata": {},
   "outputs": [
    {
     "name": "stdout",
     "output_type": "stream",
     "text": [
      "Epoch 1/3\n",
      "9/9 [==============================] - 0s 16ms/step - loss: 0.3275 - mean_absolute_error: 0.4249 - val_loss: 2.7211 - val_mean_absolute_error: 1.6460\n",
      "Epoch 2/3\n",
      "9/9 [==============================] - 0s 7ms/step - loss: 0.3197 - mean_absolute_error: 0.4193 - val_loss: 2.6697 - val_mean_absolute_error: 1.6303\n",
      "Epoch 3/3\n",
      "9/9 [==============================] - 0s 7ms/step - loss: 0.3134 - mean_absolute_error: 0.4151 - val_loss: 2.6173 - val_mean_absolute_error: 1.6143\n"
     ]
    },
    {
     "data": {
      "text/plain": [
       "<keras.callbacks.History at 0x7faedcdbbe80>"
      ]
     },
     "execution_count": 17,
     "metadata": {},
     "output_type": "execute_result"
    }
   ],
   "source": [
    "linear = tf.keras.Sequential([\n",
    "    tf.keras.layers.Dense(units=1)\n",
    "])\n",
    "\n",
    "linear.compile(loss = tf.losses.MeanSquaredError(),\n",
    "               optimizer = tf.optimizers.Adam(),\n",
    "              metrics = [tf.metrics.MeanAbsoluteError()])\n",
    "\n",
    "linear.fit(single_step_window.train, epochs = 3, validation_data =single_step_window.val )"
   ]
  },
  {
   "cell_type": "code",
   "execution_count": 18,
   "metadata": {},
   "outputs": [
    {
     "name": "stdout",
     "output_type": "stream",
     "text": [
      "3/3 [==============================] - 0s 1ms/step - loss: 2.6173 - mean_absolute_error: 1.6143\n"
     ]
    },
    {
     "data": {
      "text/plain": [
       "{'Linear': [2.6172797679901123, 1.6142516136169434]}"
      ]
     },
     "execution_count": 18,
     "metadata": {},
     "output_type": "execute_result"
    }
   ],
   "source": [
    "val_performance['Linear'] = linear.evaluate(single_step_window.val)\n",
    "\n",
    "val_performance"
   ]
  },
  {
   "cell_type": "code",
   "execution_count": 22,
   "metadata": {},
   "outputs": [],
   "source": [
    "def compile_and_fit(model, window, patience=1):\n",
    "    early_stopping = tf.keras.callbacks.EarlyStopping(monitor = \"val_loss\",\n",
    "                                                    patience = patience,\n",
    "                                                    mode = 'min')\n",
    "    model.compile(loss = tf.losses.MeanSquaredError(),\n",
    "               optimizer = tf.optimizers.Adam(),\n",
    "              metrics = [tf.metrics.MeanAbsoluteError()])\n",
    "    \n",
    "    model.fit(window.train, \n",
    "              epochs = MAX_EPOCHS, \n",
    "              validation_data =window.val,\n",
    "             callbacks = [early_stopping])\n",
    "    "
   ]
  },
  {
   "cell_type": "code",
   "execution_count": 20,
   "metadata": {},
   "outputs": [
    {
     "name": "stdout",
     "output_type": "stream",
     "text": [
      "Epoch 1/28\n",
      "9/9 [==============================] - 0s 18ms/step - loss: 0.9177 - mean_absolute_error: 0.7112 - val_loss: 6.8377 - val_mean_absolute_error: 2.6094\n",
      "Epoch 2/28\n",
      "9/9 [==============================] - 0s 7ms/step - loss: 0.6383 - mean_absolute_error: 0.5788 - val_loss: 5.2020 - val_mean_absolute_error: 2.2759\n",
      "Epoch 3/28\n",
      "9/9 [==============================] - 0s 7ms/step - loss: 0.4435 - mean_absolute_error: 0.4708 - val_loss: 3.7322 - val_mean_absolute_error: 1.9275\n",
      "Epoch 4/28\n",
      "9/9 [==============================] - 0s 7ms/step - loss: 0.2932 - mean_absolute_error: 0.3720 - val_loss: 2.5397 - val_mean_absolute_error: 1.5898\n",
      "Epoch 5/28\n",
      "9/9 [==============================] - 0s 7ms/step - loss: 0.1771 - mean_absolute_error: 0.2811 - val_loss: 1.5555 - val_mean_absolute_error: 1.2438\n",
      "Epoch 6/28\n",
      "9/9 [==============================] - 0s 7ms/step - loss: 0.0939 - mean_absolute_error: 0.2048 - val_loss: 0.8166 - val_mean_absolute_error: 0.9006\n",
      "Epoch 7/28\n",
      "9/9 [==============================] - 0s 7ms/step - loss: 0.0438 - mean_absolute_error: 0.1481 - val_loss: 0.3453 - val_mean_absolute_error: 0.5846\n",
      "Epoch 8/28\n",
      "9/9 [==============================] - 0s 7ms/step - loss: 0.0184 - mean_absolute_error: 0.1052 - val_loss: 0.1135 - val_mean_absolute_error: 0.3332\n",
      "Epoch 9/28\n",
      "9/9 [==============================] - 0s 7ms/step - loss: 0.0103 - mean_absolute_error: 0.0836 - val_loss: 0.0291 - val_mean_absolute_error: 0.1643\n",
      "Epoch 10/28\n",
      "9/9 [==============================] - 0s 7ms/step - loss: 0.0084 - mean_absolute_error: 0.0763 - val_loss: 0.0101 - val_mean_absolute_error: 0.0909\n",
      "Epoch 11/28\n",
      "9/9 [==============================] - 0s 7ms/step - loss: 0.0072 - mean_absolute_error: 0.0709 - val_loss: 0.0091 - val_mean_absolute_error: 0.0855\n",
      "Epoch 12/28\n",
      "9/9 [==============================] - 0s 7ms/step - loss: 0.0061 - mean_absolute_error: 0.0648 - val_loss: 0.0085 - val_mean_absolute_error: 0.0824\n",
      "Epoch 13/28\n",
      "9/9 [==============================] - 0s 7ms/step - loss: 0.0054 - mean_absolute_error: 0.0608 - val_loss: 0.0057 - val_mean_absolute_error: 0.0648\n",
      "Epoch 14/28\n",
      "9/9 [==============================] - 0s 7ms/step - loss: 0.0048 - mean_absolute_error: 0.0566 - val_loss: 0.0042 - val_mean_absolute_error: 0.0534\n",
      "Epoch 15/28\n",
      "9/9 [==============================] - 0s 7ms/step - loss: 0.0042 - mean_absolute_error: 0.0526 - val_loss: 0.0040 - val_mean_absolute_error: 0.0521\n",
      "Epoch 16/28\n",
      "9/9 [==============================] - 0s 7ms/step - loss: 0.0038 - mean_absolute_error: 0.0497 - val_loss: 0.0036 - val_mean_absolute_error: 0.0486\n",
      "Epoch 17/28\n",
      "9/9 [==============================] - 0s 7ms/step - loss: 0.0034 - mean_absolute_error: 0.0471 - val_loss: 0.0032 - val_mean_absolute_error: 0.0455\n",
      "Epoch 18/28\n",
      "9/9 [==============================] - 0s 7ms/step - loss: 0.0032 - mean_absolute_error: 0.0448 - val_loss: 0.0029 - val_mean_absolute_error: 0.0427\n",
      "Epoch 19/28\n",
      "9/9 [==============================] - 0s 7ms/step - loss: 0.0029 - mean_absolute_error: 0.0428 - val_loss: 0.0026 - val_mean_absolute_error: 0.0401\n",
      "Epoch 20/28\n",
      "9/9 [==============================] - 0s 7ms/step - loss: 0.0027 - mean_absolute_error: 0.0410 - val_loss: 0.0022 - val_mean_absolute_error: 0.0367\n",
      "Epoch 21/28\n",
      "9/9 [==============================] - 0s 7ms/step - loss: 0.0026 - mean_absolute_error: 0.0394 - val_loss: 0.0022 - val_mean_absolute_error: 0.0362\n",
      "Epoch 22/28\n",
      "9/9 [==============================] - 0s 8ms/step - loss: 0.0024 - mean_absolute_error: 0.0379 - val_loss: 0.0022 - val_mean_absolute_error: 0.0360\n",
      "Epoch 23/28\n",
      "9/9 [==============================] - 0s 8ms/step - loss: 0.0023 - mean_absolute_error: 0.0368 - val_loss: 0.0021 - val_mean_absolute_error: 0.0354\n",
      "Epoch 24/28\n",
      "9/9 [==============================] - 0s 7ms/step - loss: 0.0022 - mean_absolute_error: 0.0358 - val_loss: 0.0021 - val_mean_absolute_error: 0.0351\n",
      "Epoch 25/28\n",
      "9/9 [==============================] - 0s 7ms/step - loss: 0.0022 - mean_absolute_error: 0.0352 - val_loss: 0.0020 - val_mean_absolute_error: 0.0341\n",
      "Epoch 26/28\n",
      "9/9 [==============================] - 0s 7ms/step - loss: 0.0021 - mean_absolute_error: 0.0346 - val_loss: 0.0019 - val_mean_absolute_error: 0.0339\n",
      "Epoch 27/28\n",
      "9/9 [==============================] - 0s 7ms/step - loss: 0.0021 - mean_absolute_error: 0.0342 - val_loss: 0.0019 - val_mean_absolute_error: 0.0337\n",
      "Epoch 28/28\n",
      "9/9 [==============================] - 0s 8ms/step - loss: 0.0020 - mean_absolute_error: 0.0338 - val_loss: 0.0019 - val_mean_absolute_error: 0.0336\n",
      "3/3 [==============================] - 0s 1ms/step - loss: 0.0019 - mean_absolute_error: 0.0336\n"
     ]
    },
    {
     "data": {
      "text/plain": [
       "{'Linear': [2.6172797679901123, 1.6142516136169434],\n",
       " 'Dense': [0.0018537152791395783, 0.03360912576317787]}"
      ]
     },
     "execution_count": 20,
     "metadata": {},
     "output_type": "execute_result"
    }
   ],
   "source": [
    "MAX_EPOCHS = 28\n",
    "\n",
    "dense = tf.keras.Sequential([\n",
    "    tf.keras.layers.Dense(units=64, activation = 'relu'),\n",
    "    tf.keras.layers.Dense(units=64, activation = 'relu'),\n",
    "    tf.keras.layers.Dense(units = 1)\n",
    "])\n",
    "compile_and_fit(dense, single_step_window)\n",
    "val_performance['Dense'] = dense.evaluate(single_step_window.val)\n",
    "\n",
    "val_performance"
   ]
  },
  {
   "cell_type": "code",
   "execution_count": 124,
   "metadata": {
    "collapsed": true,
    "jupyter": {
     "outputs_hidden": true
    }
   },
   "outputs": [
    {
     "name": "stdout",
     "output_type": "stream",
     "text": [
      "Epoch 1/28\n",
      "9/9 [==============================] - 1s 20ms/step - loss: 0.9896 - mean_absolute_error: 0.7439 - val_loss: 7.0116 - val_mean_absolute_error: 2.6424\n",
      "Epoch 2/28\n",
      "9/9 [==============================] - 0s 8ms/step - loss: 0.7085 - mean_absolute_error: 0.6195 - val_loss: 5.1702 - val_mean_absolute_error: 2.2689\n",
      "Epoch 3/28\n",
      "9/9 [==============================] - 0s 8ms/step - loss: 0.5085 - mean_absolute_error: 0.5176 - val_loss: 3.6358 - val_mean_absolute_error: 1.9025\n",
      "Epoch 4/28\n",
      "9/9 [==============================] - 0s 8ms/step - loss: 0.3577 - mean_absolute_error: 0.4257 - val_loss: 2.4979 - val_mean_absolute_error: 1.5767\n",
      "Epoch 5/28\n",
      "9/9 [==============================] - 0s 8ms/step - loss: 0.2409 - mean_absolute_error: 0.3412 - val_loss: 1.6185 - val_mean_absolute_error: 1.2689\n",
      "Epoch 6/28\n",
      "9/9 [==============================] - 0s 8ms/step - loss: 0.1497 - mean_absolute_error: 0.2642 - val_loss: 0.9403 - val_mean_absolute_error: 0.9666\n",
      "Epoch 7/28\n",
      "9/9 [==============================] - 0s 8ms/step - loss: 0.0832 - mean_absolute_error: 0.2001 - val_loss: 0.4558 - val_mean_absolute_error: 0.6722\n",
      "Epoch 8/28\n",
      "9/9 [==============================] - 0s 8ms/step - loss: 0.0433 - mean_absolute_error: 0.1495 - val_loss: 0.1832 - val_mean_absolute_error: 0.4247\n",
      "Epoch 9/28\n",
      "9/9 [==============================] - 0s 8ms/step - loss: 0.0223 - mean_absolute_error: 0.1108 - val_loss: 0.0600 - val_mean_absolute_error: 0.2403\n",
      "Epoch 10/28\n",
      "9/9 [==============================] - 0s 8ms/step - loss: 0.0136 - mean_absolute_error: 0.0897 - val_loss: 0.0195 - val_mean_absolute_error: 0.1321\n",
      "Epoch 11/28\n",
      "9/9 [==============================] - 0s 8ms/step - loss: 0.0094 - mean_absolute_error: 0.0782 - val_loss: 0.0078 - val_mean_absolute_error: 0.0778\n",
      "Epoch 12/28\n",
      "9/9 [==============================] - 0s 8ms/step - loss: 0.0076 - mean_absolute_error: 0.0720 - val_loss: 0.0062 - val_mean_absolute_error: 0.0678\n",
      "Epoch 13/28\n",
      "9/9 [==============================] - 0s 8ms/step - loss: 0.0064 - mean_absolute_error: 0.0667 - val_loss: 0.0105 - val_mean_absolute_error: 0.0934\n",
      "3/3 [==============================] - 0s 1ms/step - loss: 0.0105 - mean_absolute_error: 0.0934\n"
     ]
    },
    {
     "data": {
      "text/plain": [
       "{'Linear': [2.7944087982177734, 1.6670103073120117],\n",
       " 'Dense': [0.010534283705055714, 0.09342733025550842]}"
      ]
     },
     "execution_count": 124,
     "metadata": {},
     "output_type": "execute_result"
    }
   ],
   "source": []
  },
  {
   "cell_type": "code",
   "execution_count": 23,
   "metadata": {},
   "outputs": [
    {
     "name": "stdout",
     "output_type": "stream",
     "text": [
      "Epoch 1/28\n",
      "9/9 [==============================] - 0s 18ms/step - loss: 0.9484 - mean_absolute_error: 0.7195 - val_loss: 7.9372 - val_mean_absolute_error: 2.8118\n",
      "Epoch 2/28\n",
      "9/9 [==============================] - 0s 7ms/step - loss: 0.7972 - mean_absolute_error: 0.6509 - val_loss: 6.9146 - val_mean_absolute_error: 2.6244\n",
      "Epoch 3/28\n",
      "9/9 [==============================] - 0s 7ms/step - loss: 0.6792 - mean_absolute_error: 0.5968 - val_loss: 5.9147 - val_mean_absolute_error: 2.4272\n",
      "Epoch 4/28\n",
      "9/9 [==============================] - 0s 7ms/step - loss: 0.5794 - mean_absolute_error: 0.5461 - val_loss: 5.0962 - val_mean_absolute_error: 2.2529\n",
      "Epoch 5/28\n",
      "9/9 [==============================] - 0s 7ms/step - loss: 0.4893 - mean_absolute_error: 0.4960 - val_loss: 4.3298 - val_mean_absolute_error: 2.0764\n",
      "Epoch 6/28\n",
      "9/9 [==============================] - 0s 7ms/step - loss: 0.4058 - mean_absolute_error: 0.4453 - val_loss: 3.6166 - val_mean_absolute_error: 1.8976\n",
      "Epoch 7/28\n",
      "9/9 [==============================] - 0s 7ms/step - loss: 0.3283 - mean_absolute_error: 0.3942 - val_loss: 2.9536 - val_mean_absolute_error: 1.7147\n",
      "Epoch 8/28\n",
      "9/9 [==============================] - 0s 8ms/step - loss: 0.2588 - mean_absolute_error: 0.3441 - val_loss: 2.3589 - val_mean_absolute_error: 1.5322\n",
      "Epoch 9/28\n",
      "9/9 [==============================] - 0s 8ms/step - loss: 0.1971 - mean_absolute_error: 0.2964 - val_loss: 1.8251 - val_mean_absolute_error: 1.3474\n",
      "Epoch 10/28\n",
      "9/9 [==============================] - 0s 7ms/step - loss: 0.1443 - mean_absolute_error: 0.2517 - val_loss: 1.3537 - val_mean_absolute_error: 1.1601\n",
      "Epoch 11/28\n",
      "9/9 [==============================] - 0s 7ms/step - loss: 0.1012 - mean_absolute_error: 0.2118 - val_loss: 0.9557 - val_mean_absolute_error: 0.9742\n",
      "Epoch 12/28\n",
      "9/9 [==============================] - 0s 7ms/step - loss: 0.0687 - mean_absolute_error: 0.1786 - val_loss: 0.6381 - val_mean_absolute_error: 0.7953\n",
      "Epoch 13/28\n",
      "9/9 [==============================] - 0s 7ms/step - loss: 0.0454 - mean_absolute_error: 0.1512 - val_loss: 0.4008 - val_mean_absolute_error: 0.6293\n",
      "Epoch 14/28\n",
      "9/9 [==============================] - 0s 7ms/step - loss: 0.0299 - mean_absolute_error: 0.1294 - val_loss: 0.2363 - val_mean_absolute_error: 0.4817\n",
      "Epoch 15/28\n",
      "9/9 [==============================] - 0s 7ms/step - loss: 0.0204 - mean_absolute_error: 0.1126 - val_loss: 0.1310 - val_mean_absolute_error: 0.3564\n",
      "Epoch 16/28\n",
      "9/9 [==============================] - 0s 8ms/step - loss: 0.0152 - mean_absolute_error: 0.1009 - val_loss: 0.0703 - val_mean_absolute_error: 0.2581\n",
      "Epoch 17/28\n",
      "9/9 [==============================] - 0s 7ms/step - loss: 0.0124 - mean_absolute_error: 0.0931 - val_loss: 0.0359 - val_mean_absolute_error: 0.1796\n",
      "Epoch 18/28\n",
      "9/9 [==============================] - 0s 7ms/step - loss: 0.0110 - mean_absolute_error: 0.0881 - val_loss: 0.0194 - val_mean_absolute_error: 0.1259\n",
      "Epoch 19/28\n",
      "9/9 [==============================] - 0s 8ms/step - loss: 0.0103 - mean_absolute_error: 0.0847 - val_loss: 0.0121 - val_mean_absolute_error: 0.0936\n",
      "Epoch 20/28\n",
      "9/9 [==============================] - 0s 7ms/step - loss: 0.0095 - mean_absolute_error: 0.0815 - val_loss: 0.0089 - val_mean_absolute_error: 0.0770\n",
      "Epoch 21/28\n",
      "9/9 [==============================] - 0s 7ms/step - loss: 0.0089 - mean_absolute_error: 0.0789 - val_loss: 0.0092 - val_mean_absolute_error: 0.0793\n",
      "3/3 [==============================] - 0s 2ms/step - loss: 0.0092 - mean_absolute_error: 0.0793\n"
     ]
    },
    {
     "data": {
      "text/plain": [
       "{'Linear': [2.6172797679901123, 1.6142516136169434],\n",
       " 'Dense': [0.0018537152791395783, 0.03360912576317787],\n",
       " 'Conv': [0.009152385406196117, 0.07928334921598434]}"
      ]
     },
     "execution_count": 23,
     "metadata": {},
     "output_type": "execute_result"
    }
   ],
   "source": [
    "CONV_WIDTH = 3\n",
    "\n",
    "conv_window = WindowGenerator(\n",
    "input_width = CONV_WIDTH,\n",
    "label_width = 1,\n",
    "shift = 1,\n",
    "train_df=train_df,\n",
    "val_df=val_df,\n",
    "test_df=test_df,\n",
    "label_columns=['value'])\n",
    "\n",
    "conv_model =  tf.keras.Sequential([\n",
    "    tf.keras.layers.Conv1D(filters=32,\n",
    "                          kernel_size=(CONV_WIDTH,),\n",
    "                           activation = 'relu'),\n",
    "    tf.keras.layers.Dense(units=32, activation = 'relu'),\n",
    "    tf.keras.layers.Dense(units=1),\n",
    "])\n",
    "\n",
    "compile_and_fit(conv_model, conv_window)\n",
    "val_performance['Conv'] = conv_model.evaluate(conv_window.val)\n",
    "\n",
    "val_performance"
   ]
  },
  {
   "cell_type": "code",
   "execution_count": 24,
   "metadata": {},
   "outputs": [
    {
     "name": "stdout",
     "output_type": "stream",
     "text": [
      "Epoch 1/28\n",
      "9/9 [==============================] - 2s 65ms/step - loss: 0.8346 - mean_absolute_error: 0.6797 - val_loss: 8.2163 - val_mean_absolute_error: 2.8601\n",
      "Epoch 2/28\n",
      "9/9 [==============================] - 0s 9ms/step - loss: 0.6662 - mean_absolute_error: 0.6019 - val_loss: 6.9177 - val_mean_absolute_error: 2.6223\n",
      "Epoch 3/28\n",
      "9/9 [==============================] - 0s 10ms/step - loss: 0.5399 - mean_absolute_error: 0.5382 - val_loss: 5.7160 - val_mean_absolute_error: 2.3770\n",
      "Epoch 4/28\n",
      "9/9 [==============================] - 0s 10ms/step - loss: 0.4294 - mean_absolute_error: 0.4742 - val_loss: 4.6252 - val_mean_absolute_error: 2.1241\n",
      "Epoch 5/28\n",
      "9/9 [==============================] - 0s 9ms/step - loss: 0.3339 - mean_absolute_error: 0.4086 - val_loss: 3.6610 - val_mean_absolute_error: 1.8640\n",
      "Epoch 6/28\n",
      "9/9 [==============================] - 0s 9ms/step - loss: 0.2559 - mean_absolute_error: 0.3429 - val_loss: 2.8510 - val_mean_absolute_error: 1.6014\n",
      "Epoch 7/28\n",
      "9/9 [==============================] - 0s 9ms/step - loss: 0.1999 - mean_absolute_error: 0.2832 - val_loss: 2.2269 - val_mean_absolute_error: 1.3492\n",
      "Epoch 8/28\n",
      "9/9 [==============================] - 0s 9ms/step - loss: 0.1682 - mean_absolute_error: 0.2488 - val_loss: 1.8069 - val_mean_absolute_error: 1.1313\n",
      "Epoch 9/28\n",
      "9/9 [==============================] - 0s 9ms/step - loss: 0.1560 - mean_absolute_error: 0.2452 - val_loss: 1.5731 - val_mean_absolute_error: 0.9818\n",
      "Epoch 10/28\n",
      "9/9 [==============================] - 0s 9ms/step - loss: 0.1515 - mean_absolute_error: 0.2473 - val_loss: 1.4702 - val_mean_absolute_error: 0.9187\n",
      "Epoch 11/28\n",
      "9/9 [==============================] - 0s 9ms/step - loss: 0.1468 - mean_absolute_error: 0.2443 - val_loss: 1.4365 - val_mean_absolute_error: 0.9107\n",
      "Epoch 12/28\n",
      "9/9 [==============================] - 0s 9ms/step - loss: 0.1417 - mean_absolute_error: 0.2379 - val_loss: 1.4252 - val_mean_absolute_error: 0.9208\n",
      "Epoch 13/28\n",
      "9/9 [==============================] - 0s 9ms/step - loss: 0.1370 - mean_absolute_error: 0.2314 - val_loss: 1.4082 - val_mean_absolute_error: 0.9252\n",
      "Epoch 14/28\n",
      "9/9 [==============================] - 0s 9ms/step - loss: 0.1327 - mean_absolute_error: 0.2257 - val_loss: 1.3769 - val_mean_absolute_error: 0.9168\n",
      "Epoch 15/28\n",
      "9/9 [==============================] - 0s 9ms/step - loss: 0.1287 - mean_absolute_error: 0.2207 - val_loss: 1.3350 - val_mean_absolute_error: 0.8986\n",
      "Epoch 16/28\n",
      "9/9 [==============================] - 0s 11ms/step - loss: 0.1247 - mean_absolute_error: 0.2160 - val_loss: 1.2894 - val_mean_absolute_error: 0.8763\n",
      "Epoch 17/28\n",
      "9/9 [==============================] - 0s 9ms/step - loss: 0.1208 - mean_absolute_error: 0.2113 - val_loss: 1.2448 - val_mean_absolute_error: 0.8540\n",
      "Epoch 18/28\n",
      "9/9 [==============================] - 0s 9ms/step - loss: 0.1170 - mean_absolute_error: 0.2065 - val_loss: 1.2029 - val_mean_absolute_error: 0.8335\n",
      "Epoch 19/28\n",
      "9/9 [==============================] - 0s 9ms/step - loss: 0.1132 - mean_absolute_error: 0.2015 - val_loss: 1.1633 - val_mean_absolute_error: 0.8143\n",
      "Epoch 20/28\n",
      "9/9 [==============================] - 0s 9ms/step - loss: 0.1094 - mean_absolute_error: 0.1964 - val_loss: 1.1249 - val_mean_absolute_error: 0.7957\n",
      "Epoch 21/28\n",
      "9/9 [==============================] - 0s 9ms/step - loss: 0.1058 - mean_absolute_error: 0.1913 - val_loss: 1.0871 - val_mean_absolute_error: 0.7769\n",
      "Epoch 22/28\n",
      "9/9 [==============================] - 0s 10ms/step - loss: 0.1022 - mean_absolute_error: 0.1862 - val_loss: 1.0496 - val_mean_absolute_error: 0.7575\n",
      "Epoch 23/28\n",
      "9/9 [==============================] - 0s 10ms/step - loss: 0.0988 - mean_absolute_error: 0.1813 - val_loss: 1.0126 - val_mean_absolute_error: 0.7378\n",
      "Epoch 24/28\n",
      "9/9 [==============================] - 0s 9ms/step - loss: 0.0954 - mean_absolute_error: 0.1763 - val_loss: 0.9763 - val_mean_absolute_error: 0.7177\n",
      "Epoch 25/28\n",
      "9/9 [==============================] - 0s 9ms/step - loss: 0.0922 - mean_absolute_error: 0.1715 - val_loss: 0.9409 - val_mean_absolute_error: 0.6975\n",
      "Epoch 26/28\n",
      "9/9 [==============================] - 0s 9ms/step - loss: 0.0890 - mean_absolute_error: 0.1669 - val_loss: 0.9064 - val_mean_absolute_error: 0.6771\n",
      "Epoch 27/28\n",
      "9/9 [==============================] - 0s 9ms/step - loss: 0.0860 - mean_absolute_error: 0.1625 - val_loss: 0.8731 - val_mean_absolute_error: 0.6567\n",
      "Epoch 28/28\n",
      "9/9 [==============================] - 0s 9ms/step - loss: 0.0832 - mean_absolute_error: 0.1584 - val_loss: 0.8409 - val_mean_absolute_error: 0.6363\n",
      "3/3 [==============================] - 0s 2ms/step - loss: 0.8409 - mean_absolute_error: 0.6363\n"
     ]
    },
    {
     "data": {
      "text/plain": [
       "{'Linear': [2.6172797679901123, 1.6142516136169434],\n",
       " 'Dense': [0.0018537152791395783, 0.03360912576317787],\n",
       " 'Conv': [0.009152385406196117, 0.07928334921598434],\n",
       " 'LSTM': [0.8409411311149597, 0.6363220810890198]}"
      ]
     },
     "execution_count": 24,
     "metadata": {},
     "output_type": "execute_result"
    }
   ],
   "source": [
    "#RNN V LSTM\n",
    "\n",
    "lstm =  tf.keras.Sequential([\n",
    "    tf.keras.layers.LSTM(32,return_sequences = True),\n",
    "    tf.keras.layers.Dense(units=1),\n",
    "])\n",
    "\n",
    "\n",
    "wide_window = WindowGenerator(\n",
    "input_width = 12,\n",
    "label_width = 12,\n",
    "shift = 1,\n",
    "train_df=train_df,\n",
    "val_df=val_df,\n",
    "test_df=test_df, \n",
    "    label_columns=['value'])\n",
    "\n",
    "compile_and_fit(lstm,wide_window)\n",
    "\n",
    "val_performance['LSTM'] = lstm.evaluate(wide_window.val)\n",
    "\n",
    "val_performance"
   ]
  },
  {
   "cell_type": "code",
   "execution_count": null,
   "metadata": {},
   "outputs": [],
   "source": []
  }
 ],
 "metadata": {
  "kernelspec": {
   "display_name": "Python 3",
   "language": "python",
   "name": "python3"
  },
  "language_info": {
   "codemirror_mode": {
    "name": "ipython",
    "version": 3
   },
   "file_extension": ".py",
   "mimetype": "text/x-python",
   "name": "python",
   "nbconvert_exporter": "python",
   "pygments_lexer": "ipython3",
   "version": "3.8.2"
  }
 },
 "nbformat": 4,
 "nbformat_minor": 4
}
